{
 "cells": [
  {
   "cell_type": "code",
   "execution_count": 1,
   "id": "3298537a",
   "metadata": {},
   "outputs": [
    {
     "name": "stderr",
     "output_type": "stream",
     "text": [
      "C:\\Users\\aswan\\AppData\\Roaming\\Python\\Python311\\site-packages\\pandas\\core\\arrays\\masked.py:60: UserWarning: Pandas requires version '1.3.6' or newer of 'bottleneck' (version '1.3.5' currently installed).\n",
      "  from pandas.core import (\n"
     ]
    },
    {
     "ename": "NoSuchWindowException",
     "evalue": "Message: no such window: target window already closed\nfrom unknown error: web view not found\n  (Session info: chrome=128.0.6613.115)\nStacktrace:\n\tGetHandleVerifier [0x00007FF62F17B5D2+29090]\n\t(No symbol) [0x00007FF62F0EE689]\n\t(No symbol) [0x00007FF62EFAB1CA]\n\t(No symbol) [0x00007FF62EF7FAF5]\n\t(No symbol) [0x00007FF62F02E2E7]\n\t(No symbol) [0x00007FF62F045EE1]\n\t(No symbol) [0x00007FF62F026493]\n\t(No symbol) [0x00007FF62EFF09B1]\n\t(No symbol) [0x00007FF62EFF1B11]\n\tGetHandleVerifier [0x00007FF62F498C5D+3295277]\n\tGetHandleVerifier [0x00007FF62F4E4843+3605523]\n\tGetHandleVerifier [0x00007FF62F4DA707+3564247]\n\tGetHandleVerifier [0x00007FF62F236EB6+797318]\n\t(No symbol) [0x00007FF62F0F980F]\n\t(No symbol) [0x00007FF62F0F53F4]\n\t(No symbol) [0x00007FF62F0F5580]\n\t(No symbol) [0x00007FF62F0E4A1F]\n\tBaseThreadInitThunk [0x00007FF93757257D+29]\n\tRtlUserThreadStart [0x00007FF937EEAF28+40]\n",
     "output_type": "error",
     "traceback": [
      "\u001b[1;31m---------------------------------------------------------------------------\u001b[0m",
      "\u001b[1;31mNoSuchWindowException\u001b[0m                     Traceback (most recent call last)",
      "Cell \u001b[1;32mIn[1], line 13\u001b[0m\n\u001b[0;32m     11\u001b[0m scroll_count \u001b[38;5;241m=\u001b[39m \u001b[38;5;241m1000\u001b[39m\n\u001b[0;32m     12\u001b[0m \u001b[38;5;28;01mfor\u001b[39;00m _ \u001b[38;5;129;01min\u001b[39;00m \u001b[38;5;28mrange\u001b[39m(scroll_count):\n\u001b[1;32m---> 13\u001b[0m    driver\u001b[38;5;241m.\u001b[39mexecute_script(\u001b[38;5;124m\"\u001b[39m\u001b[38;5;124mwindow.scrollTo(0, document.body.scrollHeight);\u001b[39m\u001b[38;5;124m\"\u001b[39m)\n\u001b[0;32m     14\u001b[0m    time\u001b[38;5;241m.\u001b[39msleep(\u001b[38;5;241m10\u001b[39m)\n\u001b[0;32m     16\u001b[0m page_source \u001b[38;5;241m=\u001b[39m driver\u001b[38;5;241m.\u001b[39mpage_source\n",
      "File \u001b[1;32m~\\AppData\\Roaming\\Python\\Python311\\site-packages\\selenium\\webdriver\\remote\\webdriver.py:414\u001b[0m, in \u001b[0;36mWebDriver.execute_script\u001b[1;34m(self, script, *args)\u001b[0m\n\u001b[0;32m    411\u001b[0m converted_args \u001b[38;5;241m=\u001b[39m \u001b[38;5;28mlist\u001b[39m(args)\n\u001b[0;32m    412\u001b[0m command \u001b[38;5;241m=\u001b[39m Command\u001b[38;5;241m.\u001b[39mW3C_EXECUTE_SCRIPT\n\u001b[1;32m--> 414\u001b[0m \u001b[38;5;28;01mreturn\u001b[39;00m \u001b[38;5;28mself\u001b[39m\u001b[38;5;241m.\u001b[39mexecute(command, {\u001b[38;5;124m\"\u001b[39m\u001b[38;5;124mscript\u001b[39m\u001b[38;5;124m\"\u001b[39m: script, \u001b[38;5;124m\"\u001b[39m\u001b[38;5;124margs\u001b[39m\u001b[38;5;124m\"\u001b[39m: converted_args})[\u001b[38;5;124m\"\u001b[39m\u001b[38;5;124mvalue\u001b[39m\u001b[38;5;124m\"\u001b[39m]\n",
      "File \u001b[1;32m~\\AppData\\Roaming\\Python\\Python311\\site-packages\\selenium\\webdriver\\remote\\webdriver.py:354\u001b[0m, in \u001b[0;36mWebDriver.execute\u001b[1;34m(self, driver_command, params)\u001b[0m\n\u001b[0;32m    352\u001b[0m response \u001b[38;5;241m=\u001b[39m \u001b[38;5;28mself\u001b[39m\u001b[38;5;241m.\u001b[39mcommand_executor\u001b[38;5;241m.\u001b[39mexecute(driver_command, params)\n\u001b[0;32m    353\u001b[0m \u001b[38;5;28;01mif\u001b[39;00m response:\n\u001b[1;32m--> 354\u001b[0m     \u001b[38;5;28mself\u001b[39m\u001b[38;5;241m.\u001b[39merror_handler\u001b[38;5;241m.\u001b[39mcheck_response(response)\n\u001b[0;32m    355\u001b[0m     response[\u001b[38;5;124m\"\u001b[39m\u001b[38;5;124mvalue\u001b[39m\u001b[38;5;124m\"\u001b[39m] \u001b[38;5;241m=\u001b[39m \u001b[38;5;28mself\u001b[39m\u001b[38;5;241m.\u001b[39m_unwrap_value(response\u001b[38;5;241m.\u001b[39mget(\u001b[38;5;124m\"\u001b[39m\u001b[38;5;124mvalue\u001b[39m\u001b[38;5;124m\"\u001b[39m, \u001b[38;5;28;01mNone\u001b[39;00m))\n\u001b[0;32m    356\u001b[0m     \u001b[38;5;28;01mreturn\u001b[39;00m response\n",
      "File \u001b[1;32m~\\AppData\\Roaming\\Python\\Python311\\site-packages\\selenium\\webdriver\\remote\\errorhandler.py:229\u001b[0m, in \u001b[0;36mErrorHandler.check_response\u001b[1;34m(self, response)\u001b[0m\n\u001b[0;32m    227\u001b[0m         alert_text \u001b[38;5;241m=\u001b[39m value[\u001b[38;5;124m\"\u001b[39m\u001b[38;5;124malert\u001b[39m\u001b[38;5;124m\"\u001b[39m]\u001b[38;5;241m.\u001b[39mget(\u001b[38;5;124m\"\u001b[39m\u001b[38;5;124mtext\u001b[39m\u001b[38;5;124m\"\u001b[39m)\n\u001b[0;32m    228\u001b[0m     \u001b[38;5;28;01mraise\u001b[39;00m exception_class(message, screen, stacktrace, alert_text)  \u001b[38;5;66;03m# type: ignore[call-arg]  # mypy is not smart enough here\u001b[39;00m\n\u001b[1;32m--> 229\u001b[0m \u001b[38;5;28;01mraise\u001b[39;00m exception_class(message, screen, stacktrace)\n",
      "\u001b[1;31mNoSuchWindowException\u001b[0m: Message: no such window: target window already closed\nfrom unknown error: web view not found\n  (Session info: chrome=128.0.6613.115)\nStacktrace:\n\tGetHandleVerifier [0x00007FF62F17B5D2+29090]\n\t(No symbol) [0x00007FF62F0EE689]\n\t(No symbol) [0x00007FF62EFAB1CA]\n\t(No symbol) [0x00007FF62EF7FAF5]\n\t(No symbol) [0x00007FF62F02E2E7]\n\t(No symbol) [0x00007FF62F045EE1]\n\t(No symbol) [0x00007FF62F026493]\n\t(No symbol) [0x00007FF62EFF09B1]\n\t(No symbol) [0x00007FF62EFF1B11]\n\tGetHandleVerifier [0x00007FF62F498C5D+3295277]\n\tGetHandleVerifier [0x00007FF62F4E4843+3605523]\n\tGetHandleVerifier [0x00007FF62F4DA707+3564247]\n\tGetHandleVerifier [0x00007FF62F236EB6+797318]\n\t(No symbol) [0x00007FF62F0F980F]\n\t(No symbol) [0x00007FF62F0F53F4]\n\t(No symbol) [0x00007FF62F0F5580]\n\t(No symbol) [0x00007FF62F0E4A1F]\n\tBaseThreadInitThunk [0x00007FF93757257D+29]\n\tRtlUserThreadStart [0x00007FF937EEAF28+40]\n"
     ]
    }
   ],
   "source": [
    "from selenium import webdriver\n",
    "from selenium.webdriver.chrome.service import Service as ChromeService\n",
    "from bs4 import BeautifulSoup\n",
    "import time\n",
    "import re\n",
    "import pandas as pd\n",
    "\n",
    "driver = webdriver.Chrome()\n",
    "driver.get('https://www.cars24.com/buy-used-car')\n",
    "\n",
    "scroll_count = 1000 #change this accordingly\n",
    "for _ in range(scroll_count):\n",
    "   driver.execute_script(\"window.scrollTo(0, document.body.scrollHeight);\")\n",
    "   time.sleep(10)\n",
    "\n",
    "page_source = driver.page_source\n",
    "soup = BeautifulSoup(page_source, 'html.parser')\n",
    "   \n",
    "all_data = soup.find_all('a', class_='IIJDn')\n",
    "details=[]\n",
    "for car in all_data:\n",
    "    try:\n",
    "        car_name = car.find('h3', class_='_11dVb').get_text()\n",
    "        match = re.match(r'(\\d{4})\\s+(.*)', car_name)\n",
    "        if match:\n",
    "            year = match.group(1)\n",
    "            name = match.group(2)\n",
    "        else:\n",
    "            continue\n",
    "\n",
    "        company = name.split(' ')[0]\n",
    "        model = ' '.join(name.split(' ')[1:])\n",
    "\n",
    "        location_str = car.find('p', class_='_3dGMY').get_text()\n",
    "        location_match = re.search(r'at\\s(.+)', location_str)\n",
    "        if location_match:\n",
    "            location=location_match.group(1)\n",
    "        \n",
    "        price = car.find('strong', class_='_3RL-I').text\n",
    "\n",
    "        ul_element = car.find('ul', class_='_3J2G-')\n",
    "\n",
    "        fuel_type = None\n",
    "        km_driven = None\n",
    "        transmission = None\n",
    "\n",
    "        if ul_element:\n",
    "            li_elements = ul_element.find_all('li')\n",
    "\n",
    "            combined_text = ' '.join(li.get_text() for li in li_elements)\n",
    "\n",
    "            km_match = re.search(r'([\\d,]+)\\s*km', combined_text)\n",
    "            fuel_match = re.search(r'\\b(Petrol|Diesel|CNG|Electric)\\b', combined_text, re.IGNORECASE)\n",
    "            transmission_match = re.search(r'\\b(Manual|Automatic)\\b', combined_text, re.IGNORECASE)\n",
    "\n",
    "            if km_match:\n",
    "                km_driven = km_match.group(1)\n",
    "            if fuel_match:\n",
    "                fuel_type = fuel_match.group(0)\n",
    "            if transmission_match:\n",
    "                transmission = transmission_match.group(0)\n",
    "\n",
    "        details.append([name, model, company, year, fuel_type, km_driven, transmission, price, location])\n",
    "    except Exception as e:\n",
    "        print(f\"Error processing car: {e}\")\n",
    "\n",
    "details = pd.DataFrame(details, columns=['Name', 'Model','Company','Year', 'Fuel Type', 'KM Driven', 'Transmission Type','Price', 'Location'])\n",
    "details.to_csv('Cars_Mumbai.csv', index=False)\n",
    "details.tail(20)"
   ]
  },
  {
   "cell_type": "code",
   "execution_count": null,
   "id": "8b9fa9ad",
   "metadata": {},
   "outputs": [],
   "source": []
  }
 ],
 "metadata": {
  "kernelspec": {
   "display_name": "Python 3 (ipykernel)",
   "language": "python",
   "name": "python3"
  },
  "language_info": {
   "codemirror_mode": {
    "name": "ipython",
    "version": 3
   },
   "file_extension": ".py",
   "mimetype": "text/x-python",
   "name": "python",
   "nbconvert_exporter": "python",
   "pygments_lexer": "ipython3",
   "version": "3.11.5"
  }
 },
 "nbformat": 4,
 "nbformat_minor": 5
}
